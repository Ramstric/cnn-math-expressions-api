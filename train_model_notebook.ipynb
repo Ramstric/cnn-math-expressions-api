{
  "cells": [
    {
      "cell_type": "code",
      "execution_count": null,
      "metadata": {
        "colab": {
          "base_uri": "https://localhost:8080/"
        },
        "id": "hYg_EDH0637c",
        "outputId": "a178ac45-d209-4ead-a478-924eb3d6fa25"
      },
      "outputs": [
        {
          "output_type": "stream",
          "name": "stdout",
          "text": [
            "Downloading from https://www.kaggle.com/api/v1/datasets/download/sagyamthapa/handwritten-math-symbols?dataset_version_number=4...\n"
          ]
        },
        {
          "output_type": "stream",
          "name": "stderr",
          "text": [
            "100%|██████████| 39.4M/39.4M [00:00<00:00, 64.7MB/s]\n"
          ]
        },
        {
          "output_type": "stream",
          "name": "stdout",
          "text": [
            "Extracting files...\n",
            "Path to dataset files: /root/.cache/kagglehub/datasets/sagyamthapa/handwritten-math-symbols/versions/4\n"
          ]
        }
      ],
      "source": [
        "import kagglehub\n",
        "\n",
        "# Download latest version\n",
        "path = kagglehub.dataset_download(\"sagyamthapa/handwritten-math-symbols\")\n",
        "\n",
        "print(\"Path to dataset files:\", path)"
      ]
    },
    {
      "cell_type": "code",
      "execution_count": null,
      "metadata": {
        "id": "O1r1xN2Y6oMy"
      },
      "outputs": [],
      "source": [
        "import os\n",
        "import shutil\n",
        "import random\n",
        "\n",
        "import torch\n",
        "import torch.nn as nn\n",
        "from torchvision.transforms.functional import to_pil_image\n",
        "from torchvision import  transforms\n",
        "from torchvision import datasets\n",
        "from torch.utils.data import DataLoader\n",
        "\n",
        "import matplotlib.pyplot as plt"
      ]
    },
    {
      "cell_type": "code",
      "source": [
        "print(os.listdir('/root/.cache/kagglehub/datasets/sagyamthapa/handwritten-math-symbols/versions/4/dataset'))\n",
        "os.rename('/root/.cache/kagglehub/datasets/sagyamthapa/handwritten-math-symbols/versions/4/dataset', 'dataset_unorganized')"
      ],
      "metadata": {
        "colab": {
          "base_uri": "https://localhost:8080/"
        },
        "id": "kFVyCSkI_soN",
        "outputId": "4851750a-ec87-44f7-fc0d-74543be8fc4e"
      },
      "execution_count": null,
      "outputs": [
        {
          "output_type": "stream",
          "name": "stdout",
          "text": [
            "['mul', '6', 'eq', 'x', 'dec', '8', 'y', 'sub', '3', '4', '5', '7', '2', 'add', '.directory', '9', '0', 'z', '1', 'div']\n"
          ]
        }
      ]
    },
    {
      "cell_type": "code",
      "source": [
        "print(os.listdir('dataset_unorganized'))\n",
        "os.rename('dataset_unorganized/add', 'dataset_unorganized/+')\n",
        "os.rename('dataset_unorganized/sub', 'dataset_unorganized/-')\n",
        "print(os.listdir('dataset_unorganized'))"
      ],
      "metadata": {
        "colab": {
          "base_uri": "https://localhost:8080/"
        },
        "id": "gfJytpGAAeAx",
        "outputId": "e85c7a11-2098-49f2-82f0-9883109e8e3e"
      },
      "execution_count": null,
      "outputs": [
        {
          "output_type": "stream",
          "name": "stdout",
          "text": [
            "['mul', '6', 'eq', 'x', 'dec', '8', 'y', 'sub', '3', '4', '5', '7', '2', 'add', '.directory', '9', '0', 'z', '1', 'div']\n",
            "['mul', '6', 'eq', 'x', 'dec', '8', 'y', '3', '4', '5', '7', '2', '.directory', '9', '+', '-', '0', 'z', '1', 'div']\n"
          ]
        }
      ]
    },
    {
      "cell_type": "code",
      "execution_count": null,
      "metadata": {
        "colab": {
          "base_uri": "https://localhost:8080/",
          "height": 1000
        },
        "id": "fGfEVo646e0G",
        "outputId": "8f65b207-e13d-4bd8-83e5-1060721ebe7f"
      },
      "outputs": [
        {
          "output_type": "stream",
          "name": "stdout",
          "text": [
            "Train data:\n",
            "Dataset ImageFolder\n",
            "    Number of datapoints: 29575\n",
            "    Root location: ./dataset_organized/train\n",
            "    StandardTransform\n",
            "Transform: Compose(\n",
            "               Resize(size=(180, 180), interpolation=bilinear, max_size=None, antialias=True)\n",
            "               ToTensor()\n",
            "           )\n",
            "\n",
            "Validation data:\n",
            "Dataset ImageFolder\n",
            "    Number of datapoints: 12676\n",
            "    Root location: ./dataset_organized/validation\n",
            "    StandardTransform\n",
            "Transform: Compose(\n",
            "               Resize(size=(180, 180), interpolation=bilinear, max_size=None, antialias=True)\n",
            "               ToTensor()\n",
            "           )\n"
          ]
        },
        {
          "output_type": "display_data",
          "data": {
            "text/plain": [
              "<Figure size 700x300 with 16 Axes>"
            ],
            "image/png": "[encoded data removed]"
          },
          "metadata": {}
        },
        {
          "output_type": "display_data",
          "data": {
            "text/plain": [
              "<Figure size 1500x600 with 2 Axes>"
            ],
            "image/png": "[encoded data removed]"
          },
          "metadata": {}
        }
      ],
      "source": [
        "# original path\n",
        "original_dataset_dir =\"./dataset_unorganized/\" # folder that contains all images\n",
        "\n",
        "# new paths for training and validation sets\n",
        "base_dir = \"./dataset_organized\"   # new folder for your train and validation folders\n",
        "if not os.path.exists(base_dir):\n",
        "        os.makedirs(base_dir)\n",
        "\n",
        "# new folder for training set\n",
        "train_dir = os.path.join(base_dir, 'train')\n",
        "if not os.path.exists(train_dir):\n",
        "        os.makedirs(train_dir)\n",
        "\n",
        "# new folder for validation set\n",
        "validation_dir = os.path.join(base_dir, 'validation')\n",
        "if not os.path.exists(validation_dir):\n",
        "        os.makedirs(validation_dir)\n",
        "\n",
        "classes = ['0', '1', '2', '3', '4', '5', '6', '7', '8', '9', 'x', 'y', '+', '-']  # class names\n",
        "\n",
        "for cls in classes:\n",
        "    cls_dir = os.path.join(original_dataset_dir, cls)\n",
        "    files = os.listdir(cls_dir)\n",
        "    random.shuffle(files)\n",
        "\n",
        "    # split dataset to training and validation\n",
        "    split_point = int(0.7 * len(files))   # training percentage is 0.7 --> %70\n",
        "    train_files = files[:split_point]\n",
        "    validation_files = files[split_point:]\n",
        "\n",
        "    train_cls_dir = os.path.join(train_dir, cls)\n",
        "    if not os.path.exists(train_cls_dir):\n",
        "        os.makedirs(train_cls_dir)\n",
        "\n",
        "    validation_cls_dir = os.path.join(validation_dir, cls)\n",
        "    if not os.path.exists(validation_cls_dir):\n",
        "        os.makedirs(validation_cls_dir)\n",
        "\n",
        "    # copy files to the folders\n",
        "    for file in train_files:\n",
        "        src = os.path.join(cls_dir, file)\n",
        "        dst = os.path.join(train_cls_dir, file)\n",
        "        shutil.copyfile(src, dst)\n",
        "\n",
        "    for file in validation_files:\n",
        "        src = os.path.join(cls_dir, file)\n",
        "        dst = os.path.join(validation_cls_dir, file)\n",
        "        shutil.copyfile(src, dst)\n",
        "\n",
        "\n",
        "train_transform  = transforms.Compose([\n",
        "    # Resize Image\n",
        "    transforms.Resize(size=(180, 180)),\n",
        "    # Turn the image into a torch.Tensor , it transforms the image to a tensor with range [0,1]. I t implies some kind of normalization\n",
        "    transforms.ToTensor()\n",
        "])\n",
        "\n",
        "validation_transform  = transforms.Compose([\n",
        "    transforms.Resize(size=(180, 180)),\n",
        "    transforms.ToTensor()\n",
        "])\n",
        "\n",
        "# Use ImageFolder to create datasets\n",
        "train_data = datasets.ImageFolder(root=train_dir, transform=train_transform)\n",
        "validation_data = datasets.ImageFolder(root=validation_dir, transform=validation_transform)\n",
        "\n",
        "print(f\"Train data:\\n{train_data}\\n\\nValidation data:\\n{validation_data}\")\n",
        "\n",
        "\n",
        "# I created  train_data and validation_data with datasets.ImageFolder\n",
        "train_set = DataLoader(dataset=train_data,\n",
        "                        batch_size=16, # how many samples per batch?\n",
        "                        num_workers=2, # how many subprocesses to use for data loading? (higher = more)\n",
        "                        shuffle=True) # shuffle the data?\n",
        "\n",
        "validation_set = DataLoader(dataset=validation_data,\n",
        "                        batch_size=16,\n",
        "                        num_workers=2,\n",
        "                        shuffle=False) # dont usually need to shuffle testing data\n",
        "\n",
        "\n",
        "\n",
        "# I create train_data above , and I will use it here\n",
        "label_dict = {y: x for x, y in train_data.class_to_idx.items()}\n",
        "\n",
        "# Define a function to display images\n",
        "def show_images(_images, _labels):\n",
        "    plt.figure(figsize=(7, 3))\n",
        "    for i in range(len(_images)):\n",
        "      if i < 16:\n",
        "        plt.subplot(4, 4, i + 1)\n",
        "        image = to_pil_image(_images[i])  # Convert tensor to PIL Image\n",
        "        plt.imshow(image)\n",
        "        plt.title(label_dict[_labels[i].item()])  # Convert numerical label to string label\n",
        "        plt.axis('off')\n",
        "      else:\n",
        "        break\n",
        "\n",
        "    plt.subplots_adjust(wspace=1, hspace=2)\n",
        "    plt.show()\n",
        "\n",
        "# Get the first batch\n",
        "for batch_idx, (images, labels) in enumerate(train_set):\n",
        "    if batch_idx == 0:  # Only process the first batch\n",
        "        show_images(images, labels)\n",
        "        break\n",
        "\n",
        "# calculate distributions in train set and save them to dictionary\n",
        "train_class_counts = {}\n",
        "for class_folder in os.listdir(train_dir):\n",
        "    class_path = os.path.join(train_dir, class_folder)\n",
        "    if os.path.isdir(class_path):\n",
        "        num_images = len(os.listdir(class_path))\n",
        "        train_class_counts[class_folder] = num_images\n",
        "\n",
        "# calculate distributions in validation set and save them to dictionary\n",
        "validation_class_counts = {}\n",
        "for class_folder in os.listdir(validation_dir):\n",
        "    class_path = os.path.join(validation_dir, class_folder)\n",
        "    if os.path.isdir(class_path):\n",
        "        num_images = len(os.listdir(class_path))\n",
        "        validation_class_counts[class_folder] = num_images\n",
        "\n",
        "\n",
        "plt.figure(figsize=(15, 6))\n",
        "\n",
        "# plot for train set\n",
        "plt.subplot(1, 2, 1)\n",
        "plt.bar(train_class_counts.keys(), train_class_counts.values())\n",
        "plt.title('Training set Distribution')\n",
        "plt.xlabel('Classes')\n",
        "plt.ylabel('Sample Numbers')\n",
        "plt.xticks(rotation=45)\n",
        "\n",
        "# plot for validations set\n",
        "plt.subplot(1, 2, 2)\n",
        "plt.bar(validation_class_counts.keys(), validation_class_counts.values())\n",
        "plt.title('Validation set Distribution')\n",
        "plt.xlabel('Classes')\n",
        "plt.ylabel('Sample Numbers')\n",
        "plt.xticks(rotation=45)\n",
        "\n",
        "plt.tight_layout()\n",
        "plt.show()\n",
        "\n",
        "\n",
        "\n",
        "train_accuracies=[]\n",
        "validation_accuracies=[]\n",
        "\n",
        "# Function for training\n",
        "def train(dataloader, _model, _loss_fn, _optimizer, epoch):\n",
        "\n",
        "    size = len(dataloader.dataset) # total number of images inside of loader\n",
        "    num_batches = len(dataloader) # number of batches\n",
        "\n",
        "    _model.train()\n",
        "\n",
        "    train_loss, correct = 0, 0\n",
        "\n",
        "    for batch, (x, y) in enumerate(dataloader):\n",
        "        # move X and y to GPU for faster training\n",
        "        x, y = x.to(device), y.to(device)\n",
        "\n",
        "        pred = _model(x) # make prediction\n",
        "        loss = _loss_fn(pred, y) # calculate loss\n",
        "\n",
        "        # Backpropagation\n",
        "        loss.backward() # compute parameters gradients\n",
        "        _optimizer.step() # update parameters\n",
        "        _optimizer.zero_grad() #  reset the gradients of all parameters\n",
        "\n",
        "        # Update training loss\n",
        "        train_loss += loss.item() # item() method extracts the loss’s value as a Python float\n",
        "\n",
        "        # Calculate training accuracy\n",
        "        correct += (pred.argmax(1) == y).type(torch.float).sum().item()\n",
        "\n",
        "    # loss and accuracy\n",
        "    train_loss = train_loss / num_batches\n",
        "    accuracy = 100 * correct / size\n",
        "\n",
        "    # use this accuracy list for plotting accuracy with matplotlib\n",
        "    train_accuracies.append(accuracy)\n",
        "\n",
        "    # Print training accuracy and loss at the end of epoch\n",
        "    print(f\" Training Accuracy: {accuracy:.2f}%, Training Loss: {train_loss:.4f}\")\n",
        "\n",
        "# function for validation\n",
        "def validation(dataloader, _model, _loss_fn, t):\n",
        "\n",
        "    size = len(dataloader.dataset) # total number of images inside of loader\n",
        "    num_batches = len(dataloader) # number of batches\n",
        "\n",
        "    validation_loss, correct = 0, 0\n",
        "\n",
        "    # sets the PyTorch model to evaluation mode, it will disable dropout layer\n",
        "    _model.eval()\n",
        "\n",
        "    with torch.no_grad(): #  disable gradient calculation\n",
        "        for x, y in dataloader:\n",
        "\n",
        "            # move X and y to GPU for faster training\n",
        "            x, y = x.to(device), y.to(device)\n",
        "            pred = _model(x) # make prediction\n",
        "            validation_loss += _loss_fn(pred, y).item()\n",
        "\n",
        "            # if prediction is correct add 1 to correct variable.\n",
        "            correct += (pred.argmax(1) == y).type(torch.float).sum().item()\n",
        "\n",
        "    # loss and accuracy\n",
        "    validation_loss /= num_batches\n",
        "    accuracy = 100 * correct / size\n",
        "\n",
        "    validation_accuracies.append(accuracy)\n",
        "\n",
        "    # Print test accuracy and loss at the end of epoch\n",
        "    print(f\" Validation Accuracy: {accuracy:.2f}%, Validation Loss: {validation_loss:.4f}\")\n",
        "\n"
      ]
    },
    {
      "cell_type": "code",
      "execution_count": null,
      "metadata": {
        "colab": {
          "base_uri": "https://localhost:8080/"
        },
        "id": "ZAkYZ2y57kDd",
        "outputId": "9952a848-c87d-4eca-9602-8080465d8ff6"
      },
      "outputs": [
        {
          "output_type": "stream",
          "name": "stdout",
          "text": [
            "Using cuda device\n",
            "SimpleCNN(\n",
            "  (conv1): Conv2d(3, 32, kernel_size=(3, 3), stride=(1, 1), padding=(1, 1))\n",
            "  (act1): ReLU()\n",
            "  (pool1): MaxPool2d(kernel_size=2, stride=2, padding=0, dilation=1, ceil_mode=False)\n",
            "  (conv2): Conv2d(32, 64, kernel_size=(3, 3), stride=(1, 1), padding=(1, 1))\n",
            "  (act2): ReLU()\n",
            "  (pool2): MaxPool2d(kernel_size=2, stride=2, padding=0, dilation=1, ceil_mode=False)\n",
            "  (conv3): Conv2d(64, 128, kernel_size=(3, 3), stride=(1, 1), padding=(1, 1))\n",
            "  (act3): ReLU()\n",
            "  (pool3): MaxPool2d(kernel_size=2, stride=2, padding=0, dilation=1, ceil_mode=False)\n",
            "  (fc1): Linear(in_features=61952, out_features=256, bias=True)\n",
            "  (act4): ReLU()\n",
            "  (dropout): Dropout(p=0.2, inplace=False)\n",
            "  (fc2): Linear(in_features=256, out_features=14, bias=True)\n",
            ")\n"
          ]
        }
      ],
      "source": [
        "# if GPU is available , use it while training\n",
        "device = \"cuda\" if torch.cuda.is_available() else \"cpu\"\n",
        "print(f\"Using {device} device\")\n",
        "\n",
        "class SimpleCNN(nn.Module):\n",
        "    def __init__(self, num_classes=14):\n",
        "        super(SimpleCNN, self).__init__()\n",
        "\n",
        "        # image size is --> (3,180,180)\n",
        "\n",
        "        # convolutional layer with 32 filter ,input dimension is 3 because image has 3 channels\n",
        "        self.conv1 = nn.Conv2d(3, 32, kernel_size=3, padding=1)\n",
        "        # activation function , it adds   introduces non-linearity to the model , thus  it helps to model to learn complex functions .\n",
        "        self.act1 = nn.ReLU()\n",
        "        # it reduces pixel number  (90,90)\n",
        "        self.pool1 = nn.MaxPool2d(2)\n",
        "\n",
        "        self.conv2 = nn.Conv2d(32, 64, kernel_size=3, padding=1)\n",
        "        self.act2 = nn.ReLU()\n",
        "        self.pool2 = nn.MaxPool2d(2)  # --> (45,45)\n",
        "\n",
        "        self.conv3 = nn.Conv2d(64, 128, kernel_size=3, padding=1)\n",
        "        self.act3 = nn.ReLU()\n",
        "        self.pool3 = nn.MaxPool2d(2) # --> (22,22)\n",
        "\n",
        "        # first flatten the channels and then feed them into the fully connected layer. Given the input shape of (128, 22, 22), flattening it results in 128 * 22 * 22.\n",
        "        self.fc1 = nn.Linear(128 * 22 * 22 , 256)\n",
        "        self.act4 = nn.ReLU()\n",
        "\n",
        "        # dropout drops randomly neurons , here %20 of neurons are dropped randomly . It helps to prevent overfitting\n",
        "        self.dropout=nn.Dropout(p=0.2)\n",
        "\n",
        "        # The nn.Linear layer with input size 256 and output size 9 represents the output layer of our neural network.\n",
        "        # Since we have 9 classes, the output of this layer will be passed through a softmax activation function.\n",
        "        # (error function  internally applies softmax activation ,you dont need to add it to here)\n",
        "        # This converts the raw outputs into probabilities, representing the likelihood of each class.\n",
        "        # These probabilities are then used to calculate the error during trainin\n",
        "        self.fc2 = nn.Linear(256, num_classes)\n",
        "\n",
        "\n",
        "    def forward(self, x):\n",
        "\n",
        "        # add outputs on top of each layer and return out in the end\n",
        "        out = self.pool1(self.act1(self.conv1(x)))\n",
        "        out = self.pool2(self.act2(self.conv2(out)))\n",
        "        out = self.pool3(self.act3(self.conv3(out)))\n",
        "\n",
        "        out = out.view(out.size(0), -1)\n",
        "\n",
        "        out = self.act4(self.fc1(out))\n",
        "        out=self.dropout(out)\n",
        "        out=self.fc2(out)\n",
        "\n",
        "        return out\n",
        "\n",
        "# create model\n",
        "model = SimpleCNN()\n",
        "\n",
        "model.to(device)\n",
        "print(model)"
      ]
    },
    {
      "cell_type": "code",
      "execution_count": null,
      "metadata": {
        "colab": {
          "base_uri": "https://localhost:8080/"
        },
        "id": "EIKNeRVL9GDj",
        "outputId": "24e80e83-ebae-4408-cbee-978070d5664d"
      },
      "outputs": [
        {
          "output_type": "stream",
          "name": "stdout",
          "text": [
            "Epoch 1\n",
            " Training Accuracy: 10.10%, Training Loss: 2.6290\n",
            " Validation Accuracy: 15.89%, Validation Loss: 2.6038\n",
            "----------------------------\n",
            "Epoch 2\n",
            " Training Accuracy: 24.50%, Training Loss: 2.3457\n",
            " Validation Accuracy: 43.37%, Validation Loss: 1.8627\n",
            "----------------------------\n",
            "Epoch 3\n",
            " Training Accuracy: 51.11%, Training Loss: 1.5049\n",
            " Validation Accuracy: 67.41%, Validation Loss: 1.0371\n",
            "----------------------------\n",
            "Epoch 4\n",
            " Training Accuracy: 77.56%, Training Loss: 0.7613\n",
            " Validation Accuracy: 84.74%, Validation Loss: 0.5521\n",
            "----------------------------\n",
            "Epoch 5\n",
            " Training Accuracy: 85.46%, Training Loss: 0.5076\n",
            " Validation Accuracy: 89.40%, Validation Loss: 0.3866\n",
            "----------------------------\n",
            "Epoch 6\n",
            " Training Accuracy: 89.33%, Training Loss: 0.3801\n",
            " Validation Accuracy: 91.50%, Validation Loss: 0.3059\n",
            "----------------------------\n",
            "Epoch 7\n",
            " Training Accuracy: 91.91%, Training Loss: 0.2882\n",
            " Validation Accuracy: 93.07%, Validation Loss: 0.2482\n",
            "----------------------------\n",
            "Epoch 8\n",
            " Training Accuracy: 93.69%, Training Loss: 0.2243\n",
            " Validation Accuracy: 94.56%, Validation Loss: 0.2024\n",
            "----------------------------\n",
            "Epoch 9\n",
            " Training Accuracy: 95.12%, Training Loss: 0.1739\n",
            " Validation Accuracy: 94.03%, Validation Loss: 0.2115\n",
            "----------------------------\n",
            "Epoch 10\n",
            " Training Accuracy: 96.25%, Training Loss: 0.1410\n",
            " Validation Accuracy: 94.82%, Validation Loss: 0.1872\n",
            "----------------------------\n",
            "Epoch 11\n",
            " Training Accuracy: 96.86%, Training Loss: 0.1150\n",
            " Validation Accuracy: 95.86%, Validation Loss: 0.1471\n",
            "----------------------------\n",
            "Epoch 12\n",
            " Training Accuracy: 97.32%, Training Loss: 0.0964\n",
            " Validation Accuracy: 96.51%, Validation Loss: 0.1298\n",
            "----------------------------\n",
            "Epoch 13\n",
            " Training Accuracy: 97.81%, Training Loss: 0.0800\n",
            " Validation Accuracy: 95.93%, Validation Loss: 0.1494\n",
            "----------------------------\n",
            "Epoch 14\n",
            " Training Accuracy: 98.16%, Training Loss: 0.0682\n",
            " Validation Accuracy: 96.55%, Validation Loss: 0.1225\n",
            "----------------------------\n",
            "Epoch 15\n",
            " Training Accuracy: 98.55%, Training Loss: 0.0557\n",
            " Validation Accuracy: 96.87%, Validation Loss: 0.1184\n",
            "----------------------------\n",
            "Epoch 16\n",
            " Training Accuracy: 98.66%, Training Loss: 0.0487\n",
            " Validation Accuracy: 96.73%, Validation Loss: 0.1232\n",
            "----------------------------\n",
            "Epoch 17\n",
            " Training Accuracy: 98.99%, Training Loss: 0.0404\n",
            " Validation Accuracy: 97.04%, Validation Loss: 0.1162\n",
            "----------------------------\n",
            "Epoch 18\n",
            " Training Accuracy: 99.07%, Training Loss: 0.0349\n",
            " Validation Accuracy: 97.01%, Validation Loss: 0.1158\n",
            "----------------------------\n",
            "Epoch 19\n",
            " Training Accuracy: 99.22%, Training Loss: 0.0307\n",
            " Validation Accuracy: 97.10%, Validation Loss: 0.1117\n",
            "----------------------------\n",
            "Epoch 20\n",
            " Training Accuracy: 99.44%, Training Loss: 0.0250\n",
            " Validation Accuracy: 97.16%, Validation Loss: 0.1121\n",
            "----------------------------\n",
            "Done!\n"
          ]
        }
      ],
      "source": [
        "# Loss function and optimizer\n",
        "loss_fn = nn.CrossEntropyLoss()\n",
        "optimizer = torch.optim.SGD(model.parameters(), lr=1e-3)\n",
        "# epoch number\n",
        "epochs = 20\n",
        "\n",
        "# loop for training model\n",
        "for t in range(epochs):\n",
        "    print(f\"Epoch {t+1}\")\n",
        "    train(train_set, model, loss_fn, optimizer,t)\n",
        "    validation(validation_set, model, loss_fn,t)\n",
        "    print(\"----------------------------\")\n",
        "print(\"Done!\")"
      ]
    },
    {
      "cell_type": "code",
      "execution_count": null,
      "metadata": {
        "colab": {
          "base_uri": "https://localhost:8080/",
          "height": 449
        },
        "id": "ORKQjQoz7oRJ",
        "outputId": "b767f90f-914d-49f6-ca2b-3658a135a00f"
      },
      "outputs": [
        {
          "output_type": "display_data",
          "data": {
            "text/plain": [
              "<Figure size 640x480 with 1 Axes>"
            ],
            "image/png": "[encoded data removed]"
          },
          "metadata": {}
        }
      ],
      "source": [
        "def visualize(_train_accuracies, _validation_accuracies):\n",
        "    epoch_number=len(_train_accuracies)\n",
        "\n",
        "    plt.plot(range(1,epoch_number+1), _train_accuracies, 'r', label='Training accuracy')\n",
        "    plt.plot(range(1,epoch_number+1), _validation_accuracies, 'b', label='Validation accuracy')\n",
        "    plt.legend()\n",
        "    plt.xlabel(\"Epoch Number\")\n",
        "    plt.ylabel(\"Accuracies\")\n",
        "    plt.grid()\n",
        "\n",
        "# Remember , this 2 parameters are lists , I created them above and append values to them regularly\n",
        "visualize(train_accuracies,validation_accuracies)\n",
        "\n",
        "# save the model\n",
        "torch.save(model.state_dict(), \"./model.pth\")\n",
        "# save the class names in a dict\n",
        "class_names = train_data.classes\n",
        "torch.save(class_names, \"./class_names.pth\")"
      ]
    },
    {
      "cell_type": "code",
      "execution_count": null,
      "metadata": {
        "id": "WNjXQJhm4ibG"
      },
      "outputs": [],
      "source": []
    }
  ],
  "metadata": {
    "accelerator": "GPU",
    "colab": {
      "gpuType": "T4",
      "provenance": []
    },
    "kernelspec": {
      "display_name": "Python 3",
      "name": "python3"
    },
    "language_info": {
      "name": "python"
    }
  },
  "nbformat": 4,
  "nbformat_minor": 0
}